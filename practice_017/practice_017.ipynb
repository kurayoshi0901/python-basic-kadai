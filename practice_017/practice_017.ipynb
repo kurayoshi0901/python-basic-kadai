{
  "nbformat": 4,
  "nbformat_minor": 0,
  "metadata": {
    "colab": {
      "provenance": []
    },
    "kernelspec": {
      "name": "python3",
      "display_name": "Python 3"
    },
    "language_info": {
      "name": "python"
    }
  },
  "cells": [
    {
      "cell_type": "code",
      "execution_count": null,
      "metadata": {
        "id": "d68VxP2XKs79",
        "colab": {
          "base_uri": "https://localhost:8080/"
        },
        "outputId": "dbd069cf-ba73-447d-f11f-2e10a88da3de"
      },
      "outputs": [
        {
          "output_type": "stream",
          "name": "stdout",
          "text": [
            "04:22:19\n"
          ]
        }
      ],
      "source": [
        "#実践17-1\n",
        "'''現在の時刻を取得し、「HH:MM:SS」の形式で出力するコードを書いてください'''\n",
        "\n",
        "from datetime import datetime\n",
        "\n",
        "current_time = datetime.now()\n",
        "\n",
        "time = current_time.strftime(\"%H:%M:%S\")\n",
        "\n",
        "print(time)"
      ]
    },
    {
      "cell_type": "code",
      "source": [
        "#実践17-2:\n",
        "'''pipでtqdmをインストールしてください。\n",
        "for i in range(100000):を実行する際、tqdmを利用してください。\n",
        "内部処理では時間がかかる処理またはsleepを用いて毎回0.001sec程度停止するようにしてください。\n",
        "参考) https://www.sejuku.net/blog/87757'''\n",
        "\n",
        "import time\n",
        "from tqdm import tqdm\n",
        "\n",
        "for i in tqdm(range(10000)):\n",
        "    time.sleep(0.001)\n"
      ],
      "metadata": {
        "colab": {
          "base_uri": "https://localhost:8080/"
        },
        "id": "T05564SyWhHm",
        "outputId": "dd2ae8c8-8e89-4061-9464-bb0b383e42a7"
      },
      "execution_count": null,
      "outputs": [
        {
          "output_type": "stream",
          "name": "stderr",
          "text": [
            "100%|██████████| 10000/10000 [00:11<00:00, 886.01it/s]\n"
          ]
        }
      ]
    },
    {
      "cell_type": "code",
      "source": [
        "#実践17-3:\n",
        "'''標準ライブラリ time を用いて、時間がかかる処理を実装し、時間を計測してください。'''\n",
        "\n",
        "import time\n",
        "\n",
        "start_time = time.time()\n",
        "time.sleep(3)\n",
        "end_time = time.time()\n",
        "elapsed_time = end_time - start_time\n",
        "print(f\"処理にかかった時間: {elapsed_time}\")"
      ],
      "metadata": {
        "colab": {
          "base_uri": "https://localhost:8080/"
        },
        "id": "xP53_piBS6C8",
        "outputId": "ad33d427-65ab-4401-b9d4-cee8db47a934"
      },
      "execution_count": null,
      "outputs": [
        {
          "output_type": "stream",
          "name": "stdout",
          "text": [
            "処理にかかった時間: 3.003345012664795\n"
          ]
        }
      ]
    },
    {
      "cell_type": "code",
      "source": [
        "#実践17-4:\n",
        "'''メニュー番号と対応する料理名がdict形式で定義されているdish_infoがあります\n",
        "リスト dish_orderにはメニュー番号が格納されています\n",
        "この状況で、\n",
        "(1) dish_orderからメニュー番号を取り出し\n",
        "(2) dish_infoから対応する料理名を取得し\n",
        "(3) 料理名を一つのリストに格納し、出力するコードを書いてください\n",
        "dish_info = {1: \"Curry\", 2: \"Pizza\", 3: \"Salad\", 4: \"Spaghetti\"}\n",
        "dish_order = [3, 1, 4, 1, 2]'''\n",
        "\n",
        "dish_info = {1: \"Curry\", 2: \"Pizza\", 3: \"Salad\", 4: \"Spaghetti\"}\n",
        "dish_order = [3, 1, 4, 1, 2]\n",
        "def dish_list():\n",
        "    ordered_dish_name = []\n",
        "    for order_num in dish_order:\n",
        "        ordered_dish_name.append (dish_info[order_num])\n",
        "    return ordered_dish_name\n",
        "order = dish_list()\n",
        "print (order)"
      ],
      "metadata": {
        "id": "nxM8MLAZPrlh",
        "colab": {
          "base_uri": "https://localhost:8080/"
        },
        "outputId": "c58937bb-c3ea-490c-a380-2ecb46fa4c9c"
      },
      "execution_count": null,
      "outputs": [
        {
          "output_type": "stream",
          "name": "stdout",
          "text": [
            "['Salad', 'Curry', 'Spaghetti', 'Curry', 'Pizza']\n"
          ]
        }
      ]
    },
    {
      "cell_type": "code",
      "source": [
        "#実践17-5: 従業員名簿の作成\n",
        "'''会社の従業員名簿を作成するプログラムを作成してください。以下の仕様を満たすようにしてください。\n",
        "(1) Employeeクラスを作成する\n",
        "属性: name(名前)、age(年齢)、department(所属部署)、salary(給与)\n",
        "__init__メソッド(コンストラクタ)で上記属性を初期化する\n",
        "raise_salaryメソッドを作成し、self.salaryに5%アップした値を設定する\n",
        "(2) 従業員のリストemployeesを作成する\n",
        "(3) create_employee関数を作成する\n",
        "引数としてname、age、department、salaryを受け取る\n",
        "Employeeクラスのインスタンスを作成し、返す\n",
        "(4) create_employee関数を使って、employeesリストに5人の従業員を追加する\n",
        "適当な名前、年齢、部署、給与を設定する\n",
        "(5) 全従業員の名簿を出力する\n",
        "従業員一人につき、name、age、department、salaryを出力する\n",
        "(6) 35歳以上の従業員に5%の給与アップを実施する\n",
        "employeesリストから35歳以上の従業員を探し出す\n",
        "その従業員インスタンスのraise_salaryメソッドを呼び出す\n",
        "(7) 新しい従業員名簿を出力する(給与アップ後の名簿)'''\n",
        "\n",
        "#(1) Employeeクラスを作成する\n",
        "#self:仮引数。クラスのオブジェクト自身\n",
        "#クラスは、関数,変数をグループ化してクラス内でしかアクセスできないので、関数の整理、変数管理が簡便\n",
        "\n",
        "class Employee:\n",
        "    def __init__(self, name, age, department, salary):\n",
        "        self.name = name\n",
        "        self.age = age\n",
        "        self.department = department\n",
        "        self.salary = salary\n",
        "\n",
        "    def raise_salary(self):\n",
        "        self.salary *= 1.05\n",
        "\n",
        "employees = []\n",
        "\n",
        "def create_employee(name, age, department, salary):\n",
        "    return Employee(name, age, department, salary)\n",
        "\n",
        "employees.append(create_employee(\"田中\", 30, \"事務\", 50000))\n",
        "employees.append(create_employee(\"鈴木\", 40, \"経理\", 60000))\n",
        "employees.append(create_employee(\"山田\", 35, \"研究\", 55000))\n",
        "\n",
        "print(\"従業員名簿:\")\n",
        "for employee in employees:\n",
        "    print(f\"名前: {employee.name}, 年齢: {employee.age}, 部署: {employee.department}, 給与: {employee.salary}\")\n",
        "\n",
        "for employee in employees:\n",
        "    if employee.age >= 35:\n",
        "        employee.raise_salary()\n",
        "\n",
        "print(\"給与アップ後の従業員名簿:\")\n",
        "for employee in employees:\n",
        "    print(f\"名前: {employee.name}, 年齢: {employee.age}, 部署: {employee.department}, 給与: {employee.salary}\")\n"
      ],
      "metadata": {
        "id": "l6olnrmQPrpf",
        "colab": {
          "base_uri": "https://localhost:8080/"
        },
        "outputId": "c9a60626-1bbb-42ad-f977-d37043f561a3"
      },
      "execution_count": null,
      "outputs": [
        {
          "output_type": "stream",
          "name": "stdout",
          "text": [
            "従業員名簿:\n",
            "名前: 田中, 年齢: 30, 部署: 事務, 給与: 50000\n",
            "名前: 鈴木, 年齢: 40, 部署: 経理, 給与: 60000\n",
            "名前: 山田, 年齢: 35, 部署: 研究, 給与: 55000\n",
            "\n",
            "給与アップ後の従業員名簿:\n",
            "名前: 田中, 年齢: 30, 部署: 事務, 給与: 50000\n",
            "名前: 鈴木, 年齢: 40, 部署: 経理, 給与: 63000.0\n",
            "名前: 山田, 年齢: 35, 部署: 研究, 給与: 57750.0\n"
          ]
        }
      ]
    }
  ]
}