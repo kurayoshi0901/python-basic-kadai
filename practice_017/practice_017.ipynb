{
  "nbformat": 4,
  "nbformat_minor": 0,
  "metadata": {
    "colab": {
      "provenance": []
    },
    "kernelspec": {
      "name": "python3",
      "display_name": "Python 3"
    },
    "language_info": {
      "name": "python"
    }
  },
  "cells": [
    {
      "cell_type": "code",
      "execution_count": null,
      "metadata": {
        "id": "d68VxP2XKs79",
        "colab": {
          "base_uri": "https://localhost:8080/"
        },
        "outputId": "dbd069cf-ba73-447d-f11f-2e10a88da3de"
      },
      "outputs": [
        {
          "output_type": "stream",
          "name": "stdout",
          "text": [
            "04:22:19\n"
          ]
        }
      ],
      "source": [
        "#実践17-1\n",
        "'''現在の時刻を取得し、「HH:MM:SS」の形式で出力するコードを書いてください'''\n",
        "\n",
        "from datetime import datetime\n",
        "\n",
        "current_time = datetime.now()\n",
        "\n",
        "time = current_time.strftime(\"%H:%M:%S\")\n",
        "\n",
        "print(time)"
      ]
    },
    {
      "cell_type": "code",
      "source": [
        "#実践17-2:\n",
        "'''pipでtqdmをインストールしてください。\n",
        "for i in range(100000):を実行する際、tqdmを利用してください。\n",
        "内部処理では時間がかかる処理またはsleepを用いて毎回0.001sec程度停止するようにしてください。\n",
        "参考) https://www.sejuku.net/blog/87757'''\n",
        "\n",
        "import time\n",
        "from tqdm import tqdm\n",
        "\n",
        "for i in tqdm(range(10000)):\n",
        "    time.sleep(0.001)\n"
      ],
      "metadata": {
        "colab": {
          "base_uri": "https://localhost:8080/"
        },
        "id": "T05564SyWhHm",
        "outputId": "dd2ae8c8-8e89-4061-9464-bb0b383e42a7"
      },
      "execution_count": null,
      "outputs": [
        {
          "output_type": "stream",
          "name": "stderr",
          "text": [
            "100%|██████████| 10000/10000 [00:11<00:00, 886.01it/s]\n"
          ]
        }
      ]
    },
    {
      "cell_type": "code",
      "source": [
        "#実践17-3:\n",
        "'''標準ライブラリ time を用いて、時間がかかる処理を実装し、時間を計測してください。'''\n",
        "\n",
        "import time\n",
        "\n",
        "start_time = time.time()\n",
        "time.sleep(3)\n",
        "end_time = time.time()\n",
        "elapsed_time = end_time - start_time\n",
        "print(f\"処理にかかった時間: {elapsed_time}\")"
      ],
      "metadata": {
        "colab": {
          "base_uri": "https://localhost:8080/"
        },
        "id": "xP53_piBS6C8",
        "outputId": "ad33d427-65ab-4401-b9d4-cee8db47a934"
      },
      "execution_count": null,
      "outputs": [
        {
          "output_type": "stream",
          "name": "stdout",
          "text": [
            "処理にかかった時間: 3.003345012664795\n"
          ]
        }
      ]
    },
    {
      "cell_type": "code",
      "source": [
        "#実践17-4:\n",
        "'''メニュー番号と対応する料理名がdict形式で定義されているdish_infoがあります\n",
        "リスト dish_orderにはメニュー番号が格納されています\n",
        "この状況で、\n",
        "(1) dish_orderからメニュー番号を取り出し\n",
        "(2) dish_infoから対応する料理名を取得し\n",
        "(3) 料理名を一つのリストに格納し、出力するコードを書いてください\n",
        "dish_info = {1: \"Curry\", 2: \"Pizza\", 3: \"Salad\", 4: \"Spaghetti\"}\n",
        "dish_order = [3, 1, 4, 1, 2]'''\n",
        "\n",
        "dish_info = {1: \"Curry\", 2: \"Pizza\", 3: \"Salad\", 4: \"Spaghetti\"}\n",
        "dish_order = [3, 1, 4, 1, 2]\n",
        "def dish_list():\n",
        "    ordered_dish_name = []\n",
        "    for order_num in dish_order:\n",
        "        ordered_dish_name.append (dish_info[order_num])\n",
        "    return ordered_dish_name\n",
        "order = dish_list()\n",
        "print (order)"
      ],
      "metadata": {
        "id": "nxM8MLAZPrlh",
        "colab": {
          "base_uri": "https://localhost:8080/"
        },
        "outputId": "c58937bb-c3ea-490c-a380-2ecb46fa4c9c"
      },
      "execution_count": null,
      "outputs": [
        {
          "output_type": "stream",
          "name": "stdout",
          "text": [
            "['Salad', 'Curry', 'Spaghetti', 'Curry', 'Pizza']\n"
          ]
        }
      ]
    },
    {
      "cell_type": "code",
      "source": [
        "#実践17-5: 従業員名簿の作成\n",
        "'''会社の従業員名簿を作成するプログラムを作成してください。以下の仕様を満たすようにしてください。\n",
        "(1) Employeeクラスを作成する\n",
        "属性: name(名前)、age(年齢)、department(所属部署)、salary(給与)\n",
        "__init__メソッド(コンストラクタ)で上記属性を初期化する\n",
        "raise_salaryメソッドを作成し、self.salaryに5%アップした値を設定する\n",
        "(2) 従業員のリストemployeesを作成する\n",
        "(3) create_employee関数を作成する\n",
        "引数としてname、age、department、salaryを受け取る\n",
        "Employeeクラスのインスタンスを作成し、返す\n",
        "(4) create_employee関数を使って、employeesリストに5人の従業員を追加する\n",
        "適当な名前、年齢、部署、給与を設定する\n",
        "(5) 全従業員の名簿を出力する\n",
        "従業員一人につき、name、age、department、salaryを出力する\n",
        "(6) 35歳以上の従業員に5%の給与アップを実施する\n",
        "employeesリストから35歳以上の従業員を探し出す\n",
        "その従業員インスタンスのraise_salaryメソッドを呼び出す\n",
        "(7) 新しい従業員名簿を出力する(給与アップ後の名簿)'''\n",
        "\n",
        "#(1) Employeeクラスを作成する\n",
        "#self:仮引数。クラスのオブジェクト自身\n",
        "#クラスは、関数,変数をグループ化してクラス内でしかアクセスできないので、関数の整理、変数管理が簡便\n",
        "\n",
        "class Employee:\n",
        "    def __init__(self, name, age, department, salary):\n",
        "        self.name = name\n",
        "        self.age = age\n",
        "        self.department = department\n",
        "        self.salary = salary\n",
        "\n",
        "    def raise_salary(self):\n",
        "        self.salary *= 1.05\n",
        "\n",
        "employees = []\n",
        "\n",
        "def create_employee(name, age, department, salary):\n",
        "    return Employee(name, age, department, salary)\n",
        "\n",
        "employees.append(create_employee(\"田中\", 30, \"事務\", 50000))\n",
        "employees.append(create_employee(\"鈴木\", 40, \"経理\", 60000))\n",
        "employees.append(create_employee(\"山田\", 35, \"研究\", 55000))\n",
        "\n",
        "print(\"従業員名簿:\")\n",
        "for employee in employees:\n",
        "    print(f\"名前: {employee.name}, 年齢: {employee.age}, 部署: {employee.department}, 給与: {employee.salary}\")\n",
        "\n",
        "for employee in employees:\n",
        "    if employee.age >= 35:\n",
        "        employee.raise_salary()\n",
        "\n",
        "print(\"給与アップ後の従業員名簿:\")\n",
        "for employee in employees:\n",
        "    print(f\"名前: {employee.name}, 年齢: {employee.age}, 部署: {employee.department}, 給与: {employee.salary}\")\n"
      ],
      "metadata": {
        "id": "l6olnrmQPrpf",
        "colab": {
          "base_uri": "https://localhost:8080/"
        },
        "outputId": "c9a60626-1bbb-42ad-f977-d37043f561a3"
      },
      "execution_count": null,
      "outputs": [
        {
          "output_type": "stream",
          "name": "stdout",
          "text": [
            "従業員名簿:\n",
            "名前: 田中, 年齢: 30, 部署: 事務, 給与: 50000\n",
            "名前: 鈴木, 年齢: 40, 部署: 経理, 給与: 60000\n",
            "名前: 山田, 年齢: 35, 部署: 研究, 給与: 55000\n",
            "\n",
            "給与アップ後の従業員名簿:\n",
            "名前: 田中, 年齢: 30, 部署: 事務, 給与: 50000\n",
            "名前: 鈴木, 年齢: 40, 部署: 経理, 給与: 63000.0\n",
            "名前: 山田, 年齢: 35, 部署: 研究, 給与: 57750.0\n"
          ]
        }
      ]
    },
    {
      "cell_type": "code",
      "source": [
        "#実践17-6\n",
        "'''問題: ユーザプロフィールクラスの作成\n",
        "この問題では、ユーザプロフィールを表すクラスを作成し、さらにそのクラスを加工するための関数を実装します。\n",
        "UserProfileクラスを作成してください。このクラスには以下のプロパティを持たせます。\n",
        "name (名前)\n",
        "age (年齢)\n",
        "email (メールアドレス)\n",
        "bio (自己紹介文)\n",
        "update_profile関数を作成してください。この関数はUserProfileインスタンスを引数として受け取り、以下の処理を行います。\n",
        "nameプロパティを大文字に変換する\n",
        "ageプロパティに5を加算する\n",
        "emailプロパティに\"@example.com\"を追加する (既にドメインが含まれている場合は変更しない)\n",
        "bioプロパティが空文字列の場合は\"No bio provided.\"に設定する\n",
        "update_profile関数から返されたUserProfileインスタンスを使って、以下のように出力してください。\n",
        "名前: [名前]\n",
        "年齢: [年齢]\n",
        "メールアドレス: [メールアドレス]\n",
        "自己紹介: [自己紹介文]\n",
        "次のユーザプロフィールを使ってプログラムを実行し、結果を確認してください。\n",
        "user1 = UserProfile(\"John Doe\", 30, \"john@example.com\", \"I am a software engineer.\")\n",
        "user2 = UserProfile(\"jane_smith\", 25, \"janesmith\", \"\")'''\n",
        "\n",
        "class UserProfile:\n",
        "    def __init__(self, name, age, email, bio):\n",
        "        self.name = name\n",
        "        self.age = age\n",
        "        self.email = email\n",
        "        self.bio = bio\n",
        "\n",
        "    def update_profile(self):\n",
        "        self.name = self.name.upper()\n",
        "\n",
        "        self.age += 5\n",
        "\n",
        "        if \"@\" not in self.email:\n",
        "            self.email += \"@example.com\"\n",
        "\n",
        "        if self.bio == \"\":\n",
        "            self.bio = \"No bio provided.\"\n",
        "\n",
        "        print(f\"名前: {self.name}\")\n",
        "        print(f\"年齢: {self.age}\")\n",
        "        print(f\"メールアドレス: {self.email}\")\n",
        "        print(f\"自己紹介: {self.bio}\")\n",
        "\n",
        "user1 = UserProfile(\"John Doe\", 30, \"john@example.com\", \"I am a software engineer.\")\n",
        "user2 = UserProfile(\"jane_smith\", 25, \"janesmith\", \"\")\n",
        "\n",
        "\n",
        "user1.update_profile()\n",
        "print()\n",
        "user2.update_profile()"
      ],
      "metadata": {
        "colab": {
          "base_uri": "https://localhost:8080/"
        },
        "id": "7qwzZmug1Ieq",
        "outputId": "186aa13f-38b4-4d62-8adf-7c916f7fadbb"
      },
      "execution_count": null,
      "outputs": [
        {
          "output_type": "stream",
          "name": "stdout",
          "text": [
            "名前: JOHN DOE\n",
            "年齢: 35\n",
            "メールアドレス: john@example.com\n",
            "自己紹介: I am a software engineer.\n",
            "\n",
            "名前: JANE_SMITH\n",
            "年齢: 30\n",
            "メールアドレス: janesmith@example.com\n",
            "自己紹介: No bio provided.\n"
          ]
        }
      ]
    },
    {
      "cell_type": "code",
      "source": [
        "#総合問題17-7: 日付計算\n",
        "'''現在日から以下の条件を満たす日付を計算し、それぞれの日付を計算してください。\n",
        "\n",
        "2週間後の日付\n",
        "一カ月前の日付\n",
        "365日後の日付\n",
        "上記のいずれかを文字列として変数に格納してください。'''\n",
        "\n",
        "from datetime import datetime, timedelta\n",
        "\n",
        "current_date = datetime.now()\n",
        "\n",
        "two_weeks_later = current_date + timedelta(weeks=2)\n",
        "one_month_ago = current_date - timedelta(days=30)\n",
        "one_year_later = current_date + timedelta(days=365)\n",
        "\n",
        "two_weeks_later_Ymd = two_weeks_later.strftime('%Y-%m-%d')\n",
        "one_month_ago_Ymd = one_month_ago.strftime('%Y-%m-%d')\n",
        "one_year_later_Ymd = one_year_later.strftime('%Y-%m-%d')\n",
        "\n",
        "print(f\"2週間後の日付: {two_weeks_later_Ymd}\")\n",
        "print(f\"一カ月前の日付: {one_month_ago_Ymd}\")\n",
        "print(f\"365日後の日付: {one_year_later_Ymd}\")"
      ],
      "metadata": {
        "colab": {
          "base_uri": "https://localhost:8080/"
        },
        "id": "THtH6ii31S96",
        "outputId": "d8760d5b-09ee-433c-ccee-3ad574250d81"
      },
      "execution_count": null,
      "outputs": [
        {
          "output_type": "stream",
          "name": "stdout",
          "text": [
            "2週間後の日付: 2024-06-08\n",
            "一カ月前の日付: 2024-04-25\n",
            "365日後の日付: 2025-05-25\n"
          ]
        }
      ]
    },
    {
      "cell_type": "code",
      "source": [
        "#総合問題17-8(関数とクラスの応用): 関数渡し\n",
        "'''関数の引数やクラスのメンバー(属性)に関数を渡すことができます。\n",
        "クラスのインスタンス化時に関数を渡すことで、インスタンスごとに異なる動作を実現できます。\n",
        "以下、問題です。\n",
        "動物の鳴き声を出力するプログラムを作ってください。\n",
        "しかし、動物の種類によって鳴き声は異なるので、動物ごとに鳴き声を出力する関数を用意するのは面倒です。そこで、動物クラスのインスタンスを生成する際に、鳴き声を出力する関数を渡せるようにしたいと思います。'''\n",
        "\n",
        "class Animal:\n",
        "    def __init__(self, name, sound):\n",
        "        self.name = name\n",
        "        self.sound = sound\n",
        "\n",
        "    def make_sound(self):\n",
        "        print(f\"動物名：{self.name}\")\n",
        "        print(f\"鳴き声：{self.sound}\\n\")\n",
        "\n",
        "dog = Animal(\"犬\",\"ワンワン\" )\n",
        "cat = Animal(\"猫\", \"ニャー\")\n",
        "\n",
        "dog.make_sound()  # ワンワン\n",
        "cat.make_sound()  # ニャー"
      ],
      "metadata": {
        "colab": {
          "base_uri": "https://localhost:8080/"
        },
        "id": "2MfNv3_41c82",
        "outputId": "87d22230-012b-44df-89ed-f4082078fb5d"
      },
      "execution_count": null,
      "outputs": [
        {
          "output_type": "stream",
          "name": "stdout",
          "text": [
            "動物名：犬\n",
            "鳴き声：ワンワン\n",
            "\n",
            "動物名：猫\n",
            "鳴き声：ニャー\n",
            "\n"
          ]
        }
      ]
    },
    {
      "cell_type": "code",
      "source": [
        "#総合問題17-9(import , from):ネットで調査必要\n",
        "\n",
        "'''import math\n",
        "from math import sqrt\n",
        "from math import *\n",
        "の違いを調査してください。\n",
        "（講義テキストではimport datetime のような例しかありませんでしたが、実務ではimport .. 以外も利用します。その違いを確認してください。）'''\n",
        "\n",
        "import math: mathモジュール全体をインポート。\n",
        "from math import sqrt: mathモジュールからsqrt関数のみインポート。\n",
        "from math import *: mathモジュール内のすべての要素（関数、定数）がインポート。"
      ],
      "metadata": {
        "id": "lZsSdnZS1flr"
      },
      "execution_count": null,
      "outputs": []
    }
  ]
}