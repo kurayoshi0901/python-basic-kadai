{
  "nbformat": 4,
  "nbformat_minor": 0,
  "metadata": {
    "colab": {
      "provenance": []
    },
    "kernelspec": {
      "name": "python3",
      "display_name": "Python 3"
    },
    "language_info": {
      "name": "python"
    }
  },
  "cells": [
    {
      "cell_type": "code",
      "execution_count": null,
      "metadata": {
        "colab": {
          "base_uri": "https://localhost:8080/"
        },
        "id": "9_GUXSxUxe5T",
        "outputId": "7d046900-150b-45eb-82a7-ca3ee6816a58"
      },
      "outputs": [
        {
          "output_type": "stream",
          "name": "stdout",
          "text": [
            "偶数のみ: [2, 4, 6, 8, 10]\n"
          ]
        }
      ],
      "source": [
        "#実践13-1\n",
        "'''引数として与えられたリストから、\n",
        "偶数のみを抽出する関数を作成してください。'''\n",
        "\n",
        "def extract_even_numbers(list) -> list:\n",
        "    even_numbers = []\n",
        "    for number in list:\n",
        "        if number % 2 == 0:\n",
        "            even_numbers.append(number)\n",
        "    return even_numbers\n",
        "\n",
        "test_list = [1, 2, 3, 4, 5, 6, 7, 8, 9, 10]\n",
        "even_numbers = extract_even_numbers(test_list)\n",
        "print(\"偶数のみ:\", even_numbers)"
      ]
    },
    {
      "cell_type": "code",
      "source": [
        "#実践13-2\n",
        "'''辞書の値に対して、その値が10以上の場合は'large'\n",
        "5以上10未満の場合は'medium'、\n",
        "5未満の場合は'small'と返す関数を作成してください。'''\n",
        "\n",
        "def classify_animal(dictionary) -> dict:\n",
        "    result = {}\n",
        "    for key, value in dictionary.items():\n",
        "        if value >= 10:\n",
        "            result[key] = \"large\"\n",
        "        elif value >= 5:\n",
        "            result[key] = \"medium\"\n",
        "        else:\n",
        "            result[key] = \"small\"\n",
        "    return result\n",
        "\n",
        "animal = {\"Human\": 60, \"Mouse\": 0.2, \"capybara\":20}\n",
        "classified_animal = classify_animal(animal)\n",
        "print(\"動物の分類:\", classified_animal)"
      ],
      "metadata": {
        "colab": {
          "base_uri": "https://localhost:8080/"
        },
        "id": "1RLXxdskzI-2",
        "outputId": "b26692c6-055d-4c8a-d0c9-9344c8e9e6f9"
      },
      "execution_count": null,
      "outputs": [
        {
          "output_type": "stream",
          "name": "stdout",
          "text": [
            "動物の分類: {'Human': 'large', 'Mouse': 'small', 'capybara': 'large'}\n"
          ]
        }
      ]
    },
    {
      "cell_type": "code",
      "source": [
        "#実践13-3\n",
        "'''整数のリストと整数の閾値を引数として受け取り、\n",
        "リスト内の要素がその閾値以上の場合は'True'、\n",
        "そうでない場合は'False'を返すリストを作成する関数を作成してください。'''\n",
        "\n",
        "def classify_numbers(lst) -> list:\n",
        "    classified_numbers = []\n",
        "    for numbers in lst:\n",
        "        if numbers >= 3:\n",
        "            classified_numbers.append(\"True\")\n",
        "        else:\n",
        "            classified_numbers.append(\"False\")\n",
        "    return classified_numbers\n",
        "\n",
        "number_list = [1, 2, 3, 4, 5, 6, 7]\n",
        "classified_numbers = classify_numbers(number_list)\n",
        "print(\"数の分類:\", classified_numbers)"
      ],
      "metadata": {
        "colab": {
          "base_uri": "https://localhost:8080/"
        },
        "id": "R4PG9rZGAI_m",
        "outputId": "2737e323-2c4f-49ab-b591-91a78585399c"
      },
      "execution_count": null,
      "outputs": [
        {
          "output_type": "stream",
          "name": "stdout",
          "text": [
            "数の分類: ['False', 'False', 'True', 'True', 'True', 'True', 'True']\n"
          ]
        }
      ]
    },
    {
      "cell_type": "code",
      "source": [
        "#実践13-4\n",
        "'''2つのリストを受け取り、それらの共通する要素のみを\n",
        "含む新しいリストを返す関数を作成してください。\n",
        "ヒント: ある値がとあるリストに格納されているかは、\n",
        " if varA in List のような記法で実現できます。'''\n",
        "\n",
        "def pickup_common_numbers (list1, list2) -> list:\n",
        "    common_numbers = []\n",
        "    for numbers in list1:\n",
        "        if numbers in list2:\n",
        "            common_numbers.append(numbers)\n",
        "    return common_numbers\n",
        "\n",
        "list1 = [1, 3, 5, 7, 10, 13, 16, 19]\n",
        "list2 = [0, 3, 11, 15, 19]\n",
        "\n",
        "selected_common_numbers =  pickup_common_numbers(list1, list2)\n",
        "print(\"共通の数字\", selected_common_numbers)"
      ],
      "metadata": {
        "colab": {
          "base_uri": "https://localhost:8080/"
        },
        "id": "tXVO2QFEIukY",
        "outputId": "f94094fb-e51c-4932-a5bc-2c6f5bdccde6"
      },
      "execution_count": null,
      "outputs": [
        {
          "output_type": "stream",
          "name": "stdout",
          "text": [
            "共通の数字 [3, 19]\n"
          ]
        }
      ]
    },
    {
      "cell_type": "code",
      "source": [
        "#実践13-5\n",
        "''' (一部応用) 生徒のユーザー名をキー、\n",
        "点数を値とする辞書を渡したら最高点のユーザー名と点数(tuple)を1度に返す関数を作成してください。\n",
        "そしてその結果を受け取ってprint(f)してください。注意) print(f)はprint(f\"結果は{var}です\")のような記法です'''\n",
        "\n",
        "def select_maximum_socre_student(dictionary) -> dict :\n",
        "\n",
        "    maximum_score = max(dictionary.values())\n",
        "    maximum_student = \"\"\n",
        "    for key, value in dictionary.items():\n",
        "        if value == maximum_score:\n",
        "            maximum_student = key\n",
        "    return maximum_score, maximum_student\n",
        "\n",
        "scores = {\"田中\": 85, '佐々木': 90, '鈴木': 88}\n",
        "maximum_student, maximum_score = select_maximum_socre_student(scores)\n",
        "print(f\"最高点は {maximum_score} で、生徒名は {maximum_student} です\")"
      ],
      "metadata": {
        "colab": {
          "base_uri": "https://localhost:8080/"
        },
        "id": "eEMaBvwUNgU6",
        "outputId": "bfd1db2c-372c-4c18-b675-dbfb27b8b07e"
      },
      "execution_count": null,
      "outputs": [
        {
          "output_type": "stream",
          "name": "stdout",
          "text": [
            "最高点は 佐々木 で、生徒名は 90 です\n"
          ]
        }
      ]
    }
  ]
}