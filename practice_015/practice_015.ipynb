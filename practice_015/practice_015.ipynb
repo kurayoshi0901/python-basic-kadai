{
  "nbformat": 4,
  "nbformat_minor": 0,
  "metadata": {
    "colab": {
      "provenance": []
    },
    "kernelspec": {
      "name": "python3",
      "display_name": "Python 3"
    },
    "language_info": {
      "name": "python"
    }
  },
  "cells": [
    {
      "cell_type": "code",
      "execution_count": null,
      "metadata": {
        "colab": {
          "base_uri": "https://localhost:8080/"
        },
        "id": "LuuIOiEuiygA",
        "outputId": "ab5cf6e6-629a-4167-dd5b-894c56da490e"
      },
      "outputs": [
        {
          "output_type": "stream",
          "name": "stdout",
          "text": [
            "Hello,my name is 太郎\n",
            "現在年(2024年)から年齢を引いた値は2002です\n"
          ]
        }
      ],
      "source": [
        "#実践15-1:\n",
        "'''Personクラスを定義し、以下の条件を満たすようにしてください。\n",
        "コンストラクタでは、名前(name)と年齢(age)を受け取る\n",
        "greet()メソッドを定義し、\"Hello, my name is [名前]\"と出力する\n",
        "get_year_of_birth()メソッドを定義し、現在年(2024年)から年齢を引いた値を返す'''\n",
        "\n",
        "class Person:\n",
        "    def __init__(self, name: str, age: int):\n",
        "        self.name = name\n",
        "        self.age = age\n",
        "    def greet(self):\n",
        "        print(f\"Hello,my name is {self.name}\")\n",
        "        num = 2024 - self.age\n",
        "        print(f\"現在年(2024年)から年齢を引いた値は{num}です\")\n",
        "\n",
        "human1 = Person(\"太郎\", 22)\n",
        "\n",
        "human1.greet()"
      ]
    },
    {
      "cell_type": "code",
      "source": [
        "#実践15-2:\n",
        "'''BankAccountクラスを定義し、以下の条件を満たすようにしてください。\n",
        "コンストラクタでは、口座番号(account_number)と残高(balance)を受け取る\n",
        "deposit(amount)メソッドを定義し、指定された金額を残高に加える\n",
        "withdraw(amount)メソッドを定義し、指定された金額を残高から引く(残高が不足している場合は\"Insufficient balance\"と出力する)\n",
        "get_balance()メソッドを定義し、現在の残高を返す'''\n",
        "\n",
        "class BankAccount:\n",
        "    def __init__(self, account_number: str, balance: int):\n",
        "        self.account_number = account_number\n",
        "        self.balance = balance\n",
        "\n",
        "    def deposit(self, amount: int) -> int:\n",
        "        self.balance = self.balance + amount\n",
        "        return self.balance\n",
        "\n",
        "    def withdraw(self, amount: int)-> int:\n",
        "        if amount <= self.balance:\n",
        "            self.balance = self.balance - amount\n",
        "        else:\n",
        "            print(\"Insufficient balance\")\n",
        "\n",
        "    def get_balance(self):\n",
        "        return self.balance\n",
        "\n",
        "account1 = BankAccount(\"123456789\", 1500)\n",
        "\n",
        "account1.deposit(100)\n",
        "account1.withdraw(1000)\n",
        "print(\"Current balance:\", account1.get_balance())\n"
      ],
      "metadata": {
        "colab": {
          "base_uri": "https://localhost:8080/"
        },
        "id": "jpbBTkBVr8zL",
        "outputId": "3deb2b56-d291-4ceb-ed83-004d9e677620"
      },
      "execution_count": null,
      "outputs": [
        {
          "output_type": "stream",
          "name": "stdout",
          "text": [
            "Current balance: 600\n"
          ]
        }
      ]
    },
    {
      "cell_type": "code",
      "source": [
        "#実践15-4:\n",
        "'''Studentクラスを定義し、以下の条件を満たすようにしてください。\n",
        "コンストラクタでは、名前(name)と年齢(age)を受け取る\n",
        "add_grade(subject, grade)メソッドを定義し、受け取った科目(subject)と成績(grade)をdictionary形式で保存する\n",
        "get_grades()メソッドを定義し、保存された全ての科目と成績をdictionaryとして返す\n",
        "get_average_grade()メソッドを定義し、全ての科目の平均点を計算して返す'''\n",
        "class Student:\n",
        "    def __init__(self, name: str, age: int):\n",
        "        self.name = name\n",
        "        self.age = age\n",
        "        self.grades = {}\n",
        "\n",
        "    def add_grade(self, subject: str, grade: int):\n",
        "        self.grades[subject] = grade\n",
        "\n",
        "    def get_grades(self):\n",
        "        return self.grades\n",
        "\n",
        "    def get_average_grade(self):\n",
        "        total_grade = sum(self.grades.values())\n",
        "        average_grade = total_grade / len(self.grades)\n",
        "        return average_grade\n",
        "\n",
        "student1 = Student(\"English\", 20)\n",
        "\n",
        "student1.add_grade(\"Math\", 85)\n",
        "student1.add_grade(\"Science\", 90)\n",
        "student1.add_grade(\"History\", 75)\n",
        "\n",
        "\n",
        "print(f\"全ての科目と成績:\", student1.get_grades())\n",
        "\n",
        "print(\"平均点:\", student1.get_average_grade())\n"
      ],
      "metadata": {
        "colab": {
          "base_uri": "https://localhost:8080/"
        },
        "id": "0-cMfxzhMXOI",
        "outputId": "72ec44dc-576c-4ab9-ea26-dc9cf60f920b"
      },
      "execution_count": null,
      "outputs": [
        {
          "output_type": "stream",
          "name": "stdout",
          "text": [
            "全ての科目と成績: {'Math': 85, 'Science': 90, 'History': 75}\n",
            "平均点: 83.33333333333333\n"
          ]
        }
      ]
    }
  ]
}