{
  "nbformat": 4,
  "nbformat_minor": 0,
  "metadata": {
    "colab": {
      "provenance": []
    },
    "kernelspec": {
      "name": "python3",
      "display_name": "Python 3"
    },
    "language_info": {
      "name": "python"
    }
  },
  "cells": [
    {
      "cell_type": "code",
      "execution_count": null,
      "metadata": {
        "colab": {
          "base_uri": "https://localhost:8080/"
        },
        "id": "50M6Uiryp-Lf",
        "outputId": "a96d6484-f2e9-46ed-ac09-35f5588bb0e1"
      },
      "outputs": [
        {
          "output_type": "stream",
          "name": "stdout",
          "text": [
            "Original list: [1, 2, 3, 4, 5]\n",
            "Even numbers: [2, 4]\n"
          ]
        }
      ],
      "source": [
        "#実践14-1:\n",
        "'''次のコードでは、エラーが発生します。\n",
        "原因を説明し、修正した上で正しく動作するように\n",
        "コードを書き換えてください。'''\n",
        "\n",
        "'''動かなかった原因\n",
        "⇒関数内で定義されていて、関数外から見えなくなっているため?????\n",
        "\n",
        "以下は訂正バージョン'''\n",
        "\n",
        "def my_func(lst):\n",
        "    even_lst = []\n",
        "    for num in lst:\n",
        "        if num % 2 == 0:\n",
        "            even_lst.append(num)\n",
        "    return even_lst\n",
        "\n",
        "my_list = [1, 2, 3, 4, 5]\n",
        "result = my_func(my_list)\n",
        "print(f\"Original list: {my_list}\")\n",
        "print(f\"Even numbers: {result}\")\n"
      ]
    },
    {
      "cell_type": "code",
      "source": [
        "#実践14-2\n",
        "'''次のコードでは、グローバル変数とローカル変数の両方を使用しています。\n",
        "出力はどうなるでしょうか?結果を説明してください。\n",
        "また、コードはコピーせず手で打ち込んでください。'''\n",
        "\n",
        "出力結果\n",
        "Inside function: x = 20\n",
        "Outside function: x = 10\n",
        "\n",
        "Inside function: xに記載されているxはローカル変数で、Xには20が格納されているので、20が出力される\n",
        "Outside function: xに記載されているxはグローバル変数で、Xには10が格納されているので、10が出力される\n",
        "\n",
        "\n"
      ],
      "metadata": {
        "id": "Kvjsai43vEn6"
      },
      "execution_count": null,
      "outputs": []
    }
  ]
}